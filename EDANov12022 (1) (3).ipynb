{
 "cells": [
  {
   "cell_type": "markdown",
   "metadata": {},
   "source": [
    "## Create a report to summarize your research. Include:\n",
    "\n",
    "1. What is the average rating by country of origin?\n",
    "2. How many bars were reviewed for each of those countries?\n",
    "3. Create plots to visualize findings for questions 1 and 2.\n",
    "4. Is the cacao bean's origin an indicator of quality?\n",
    "5. [Optional] How does cocoa content relate to rating? What is the average cocoa content for bars with higher ratings (above 3.5)?\n",
    "6. [Optional 2] Your research indicates that some consumers want to avoid bars with lecithin. Compare the average rating of 7. bars with and without lecithin (L in the ingredients).\n",
    "8. Summarize your findings."
   ]
  },
  {
   "cell_type": "markdown",
   "metadata": {},
   "source": [
    "## importing the necessary libraries"
   ]
  },
  {
   "cell_type": "code",
   "execution_count": 3,
   "metadata": {},
   "outputs": [],
   "source": [
    "import pandas as pd\n",
    "import numpy as np\n",
    "import matplotlib.pyplot as plt\n",
    "%matplotlib inline\n",
    "import seaborn as sns\n"
   ]
  },
  {
   "cell_type": "code",
   "execution_count": 5,
   "metadata": {},
   "outputs": [
    {
     "data": {
      "text/html": [
       "<div>\n",
       "<style scoped>\n",
       "    .dataframe tbody tr th:only-of-type {\n",
       "        vertical-align: middle;\n",
       "    }\n",
       "\n",
       "    .dataframe tbody tr th {\n",
       "        vertical-align: top;\n",
       "    }\n",
       "\n",
       "    .dataframe thead th {\n",
       "        text-align: right;\n",
       "    }\n",
       "</style>\n",
       "<table border=\"1\" class=\"dataframe\">\n",
       "  <thead>\n",
       "    <tr style=\"text-align: right;\">\n",
       "      <th></th>\n",
       "      <th>id</th>\n",
       "      <th>manufacturer</th>\n",
       "      <th>company_location</th>\n",
       "      <th>year_reviewed</th>\n",
       "      <th>bean_origin</th>\n",
       "      <th>bar_name</th>\n",
       "      <th>cocoa_percent</th>\n",
       "      <th>num_ingredients</th>\n",
       "      <th>ingredients</th>\n",
       "      <th>review</th>\n",
       "      <th>rating</th>\n",
       "    </tr>\n",
       "  </thead>\n",
       "  <tbody>\n",
       "    <tr>\n",
       "      <th>0</th>\n",
       "      <td>2454</td>\n",
       "      <td>5150</td>\n",
       "      <td>U.S.A.</td>\n",
       "      <td>2019</td>\n",
       "      <td>Tanzania</td>\n",
       "      <td>Kokoa Kamili, batch 1</td>\n",
       "      <td>76.0</td>\n",
       "      <td>3.0</td>\n",
       "      <td>B,S,C</td>\n",
       "      <td>rich cocoa, fatty, bready</td>\n",
       "      <td>3.25</td>\n",
       "    </tr>\n",
       "    <tr>\n",
       "      <th>1</th>\n",
       "      <td>2458</td>\n",
       "      <td>5150</td>\n",
       "      <td>U.S.A.</td>\n",
       "      <td>2019</td>\n",
       "      <td>Dominican Republic</td>\n",
       "      <td>Zorzal, batch 1</td>\n",
       "      <td>76.0</td>\n",
       "      <td>3.0</td>\n",
       "      <td>B,S,C</td>\n",
       "      <td>cocoa, vegetal, savory</td>\n",
       "      <td>3.50</td>\n",
       "    </tr>\n",
       "    <tr>\n",
       "      <th>2</th>\n",
       "      <td>2454</td>\n",
       "      <td>5150</td>\n",
       "      <td>U.S.A.</td>\n",
       "      <td>2019</td>\n",
       "      <td>Madagascar</td>\n",
       "      <td>Bejofo Estate, batch 1</td>\n",
       "      <td>76.0</td>\n",
       "      <td>3.0</td>\n",
       "      <td>B,S,C</td>\n",
       "      <td>cocoa, blackberry, full body</td>\n",
       "      <td>3.75</td>\n",
       "    </tr>\n",
       "    <tr>\n",
       "      <th>3</th>\n",
       "      <td>2542</td>\n",
       "      <td>5150</td>\n",
       "      <td>U.S.A.</td>\n",
       "      <td>2021</td>\n",
       "      <td>Fiji</td>\n",
       "      <td>Matasawalevu, batch 1</td>\n",
       "      <td>68.0</td>\n",
       "      <td>3.0</td>\n",
       "      <td>B,S,C</td>\n",
       "      <td>chewy, off, rubbery</td>\n",
       "      <td>3.00</td>\n",
       "    </tr>\n",
       "    <tr>\n",
       "      <th>4</th>\n",
       "      <td>2546</td>\n",
       "      <td>5150</td>\n",
       "      <td>U.S.A.</td>\n",
       "      <td>2021</td>\n",
       "      <td>Venezuela</td>\n",
       "      <td>Sur del Lago, batch 1</td>\n",
       "      <td>72.0</td>\n",
       "      <td>3.0</td>\n",
       "      <td>B,S,C</td>\n",
       "      <td>fatty, earthy, moss, nutty,chalky</td>\n",
       "      <td>3.00</td>\n",
       "    </tr>\n",
       "    <tr>\n",
       "      <th>...</th>\n",
       "      <td>...</td>\n",
       "      <td>...</td>\n",
       "      <td>...</td>\n",
       "      <td>...</td>\n",
       "      <td>...</td>\n",
       "      <td>...</td>\n",
       "      <td>...</td>\n",
       "      <td>...</td>\n",
       "      <td>...</td>\n",
       "      <td>...</td>\n",
       "      <td>...</td>\n",
       "    </tr>\n",
       "    <tr>\n",
       "      <th>2525</th>\n",
       "      <td>1205</td>\n",
       "      <td>Zotter</td>\n",
       "      <td>Austria</td>\n",
       "      <td>2014</td>\n",
       "      <td>Blend</td>\n",
       "      <td>Raw</td>\n",
       "      <td>80.0</td>\n",
       "      <td>4.0</td>\n",
       "      <td>B,S*,C,Sa</td>\n",
       "      <td>waxy, cloying, vegetal</td>\n",
       "      <td>2.75</td>\n",
       "    </tr>\n",
       "    <tr>\n",
       "      <th>2526</th>\n",
       "      <td>1996</td>\n",
       "      <td>Zotter</td>\n",
       "      <td>Austria</td>\n",
       "      <td>2017</td>\n",
       "      <td>Colombia</td>\n",
       "      <td>APROCAFA, Acandi</td>\n",
       "      <td>75.0</td>\n",
       "      <td>3.0</td>\n",
       "      <td>B,S,C</td>\n",
       "      <td>strong nutty, marshmallow</td>\n",
       "      <td>3.75</td>\n",
       "    </tr>\n",
       "    <tr>\n",
       "      <th>2527</th>\n",
       "      <td>2036</td>\n",
       "      <td>Zotter</td>\n",
       "      <td>Austria</td>\n",
       "      <td>2018</td>\n",
       "      <td>Blend</td>\n",
       "      <td>Dry Aged, 30 yr Anniversary bar</td>\n",
       "      <td>75.0</td>\n",
       "      <td>3.0</td>\n",
       "      <td>B,S,C</td>\n",
       "      <td>fatty, earthy, cocoa</td>\n",
       "      <td>3.00</td>\n",
       "    </tr>\n",
       "    <tr>\n",
       "      <th>2528</th>\n",
       "      <td>2170</td>\n",
       "      <td>Zotter</td>\n",
       "      <td>Austria</td>\n",
       "      <td>2018</td>\n",
       "      <td>Congo</td>\n",
       "      <td>Mountains of the Moon</td>\n",
       "      <td>70.0</td>\n",
       "      <td>3.0</td>\n",
       "      <td>B,S,C</td>\n",
       "      <td>fatty, mild nuts, mild fruit</td>\n",
       "      <td>3.25</td>\n",
       "    </tr>\n",
       "    <tr>\n",
       "      <th>2529</th>\n",
       "      <td>2170</td>\n",
       "      <td>Zotter</td>\n",
       "      <td>Austria</td>\n",
       "      <td>2018</td>\n",
       "      <td>Belize</td>\n",
       "      <td>Maya Mtn</td>\n",
       "      <td>72.0</td>\n",
       "      <td>3.0</td>\n",
       "      <td>B,S,C</td>\n",
       "      <td>muted, roasty, accessible</td>\n",
       "      <td>3.50</td>\n",
       "    </tr>\n",
       "  </tbody>\n",
       "</table>\n",
       "<p>2530 rows × 11 columns</p>\n",
       "</div>"
      ],
      "text/plain": [
       "        id manufacturer company_location  year_reviewed         bean_origin  \\\n",
       "0     2454         5150           U.S.A.           2019            Tanzania   \n",
       "1     2458         5150           U.S.A.           2019  Dominican Republic   \n",
       "2     2454         5150           U.S.A.           2019          Madagascar   \n",
       "3     2542         5150           U.S.A.           2021                Fiji   \n",
       "4     2546         5150           U.S.A.           2021           Venezuela   \n",
       "...    ...          ...              ...            ...                 ...   \n",
       "2525  1205       Zotter          Austria           2014               Blend   \n",
       "2526  1996       Zotter          Austria           2017            Colombia   \n",
       "2527  2036       Zotter          Austria           2018               Blend   \n",
       "2528  2170       Zotter          Austria           2018               Congo   \n",
       "2529  2170       Zotter          Austria           2018              Belize   \n",
       "\n",
       "                             bar_name  cocoa_percent  num_ingredients  \\\n",
       "0               Kokoa Kamili, batch 1           76.0              3.0   \n",
       "1                     Zorzal, batch 1           76.0              3.0   \n",
       "2              Bejofo Estate, batch 1           76.0              3.0   \n",
       "3               Matasawalevu, batch 1           68.0              3.0   \n",
       "4               Sur del Lago, batch 1           72.0              3.0   \n",
       "...                               ...            ...              ...   \n",
       "2525                              Raw           80.0              4.0   \n",
       "2526                 APROCAFA, Acandi           75.0              3.0   \n",
       "2527  Dry Aged, 30 yr Anniversary bar           75.0              3.0   \n",
       "2528            Mountains of the Moon           70.0              3.0   \n",
       "2529                         Maya Mtn           72.0              3.0   \n",
       "\n",
       "     ingredients                             review  rating  \n",
       "0          B,S,C          rich cocoa, fatty, bready    3.25  \n",
       "1          B,S,C             cocoa, vegetal, savory    3.50  \n",
       "2          B,S,C       cocoa, blackberry, full body    3.75  \n",
       "3          B,S,C                chewy, off, rubbery    3.00  \n",
       "4          B,S,C  fatty, earthy, moss, nutty,chalky    3.00  \n",
       "...          ...                                ...     ...  \n",
       "2525   B,S*,C,Sa             waxy, cloying, vegetal    2.75  \n",
       "2526       B,S,C          strong nutty, marshmallow    3.75  \n",
       "2527       B,S,C               fatty, earthy, cocoa    3.00  \n",
       "2528       B,S,C       fatty, mild nuts, mild fruit    3.25  \n",
       "2529       B,S,C          muted, roasty, accessible    3.50  \n",
       "\n",
       "[2530 rows x 11 columns]"
      ]
     },
     "execution_count": 5,
     "metadata": {},
     "output_type": "execute_result"
    }
   ],
   "source": [
    "# read the data frame\n",
    "read_file = pd.read_csv(\"chocolate_bars.csv\")\n",
    "read_file"
   ]
  },
  {
   "cell_type": "code",
   "execution_count": null,
   "metadata": {},
   "outputs": [],
   "source": []
  },
  {
   "cell_type": "code",
   "execution_count": 6,
   "metadata": {},
   "outputs": [
    {
     "name": "stdout",
     "output_type": "stream",
     "text": [
      "<class 'pandas.core.frame.DataFrame'>\n",
      "RangeIndex: 2530 entries, 0 to 2529\n",
      "Data columns (total 11 columns):\n",
      " #   Column            Non-Null Count  Dtype  \n",
      "---  ------            --------------  -----  \n",
      " 0   id                2530 non-null   int64  \n",
      " 1   manufacturer      2530 non-null   object \n",
      " 2   company_location  2530 non-null   object \n",
      " 3   year_reviewed     2530 non-null   int64  \n",
      " 4   bean_origin       2530 non-null   object \n",
      " 5   bar_name          2530 non-null   object \n",
      " 6   cocoa_percent     2530 non-null   float64\n",
      " 7   num_ingredients   2443 non-null   float64\n",
      " 8   ingredients       2443 non-null   object \n",
      " 9   review            2530 non-null   object \n",
      " 10  rating            2530 non-null   float64\n",
      "dtypes: float64(3), int64(2), object(6)\n",
      "memory usage: 217.5+ KB\n"
     ]
    }
   ],
   "source": [
    "# check for an overall view of the dataframe\n",
    "read_file.info()"
   ]
  },
  {
   "cell_type": "code",
   "execution_count": 7,
   "metadata": {},
   "outputs": [
    {
     "data": {
      "text/plain": [
       "id                   0\n",
       "manufacturer         0\n",
       "company_location     0\n",
       "year_reviewed        0\n",
       "bean_origin          0\n",
       "bar_name             0\n",
       "cocoa_percent        0\n",
       "num_ingredients     87\n",
       "ingredients         87\n",
       "review               0\n",
       "rating               0\n",
       "dtype: int64"
      ]
     },
     "execution_count": 7,
     "metadata": {},
     "output_type": "execute_result"
    }
   ],
   "source": [
    "# check for any null values in the data\n",
    "read_file.isnull().sum()"
   ]
  },
  {
   "cell_type": "markdown",
   "metadata": {},
   "source": [
    "it is observed that the num_ingredients and ingredients has empty values"
   ]
  },
  {
   "cell_type": "code",
   "execution_count": 9,
   "metadata": {},
   "outputs": [
    {
     "data": {
      "text/plain": [
       "0"
      ]
     },
     "execution_count": 9,
     "metadata": {},
     "output_type": "execute_result"
    }
   ],
   "source": [
    "# check for duplicate\n",
    "read_file.duplicated().sum()"
   ]
  },
  {
   "cell_type": "code",
   "execution_count": 13,
   "metadata": {},
   "outputs": [
    {
     "data": {
      "text/html": [
       "<div>\n",
       "<style scoped>\n",
       "    .dataframe tbody tr th:only-of-type {\n",
       "        vertical-align: middle;\n",
       "    }\n",
       "\n",
       "    .dataframe tbody tr th {\n",
       "        vertical-align: top;\n",
       "    }\n",
       "\n",
       "    .dataframe thead th {\n",
       "        text-align: right;\n",
       "    }\n",
       "</style>\n",
       "<table border=\"1\" class=\"dataframe\">\n",
       "  <thead>\n",
       "    <tr style=\"text-align: right;\">\n",
       "      <th></th>\n",
       "      <th>manufacturer</th>\n",
       "      <th>company_location</th>\n",
       "      <th>bean_origin</th>\n",
       "      <th>bar_name</th>\n",
       "      <th>ingredients</th>\n",
       "      <th>review</th>\n",
       "    </tr>\n",
       "  </thead>\n",
       "  <tbody>\n",
       "    <tr>\n",
       "      <th>count</th>\n",
       "      <td>2530</td>\n",
       "      <td>2530</td>\n",
       "      <td>2530</td>\n",
       "      <td>2530</td>\n",
       "      <td>2443</td>\n",
       "      <td>2530</td>\n",
       "    </tr>\n",
       "    <tr>\n",
       "      <th>unique</th>\n",
       "      <td>580</td>\n",
       "      <td>67</td>\n",
       "      <td>62</td>\n",
       "      <td>1605</td>\n",
       "      <td>21</td>\n",
       "      <td>2487</td>\n",
       "    </tr>\n",
       "    <tr>\n",
       "      <th>top</th>\n",
       "      <td>Soma</td>\n",
       "      <td>U.S.A.</td>\n",
       "      <td>Venezuela</td>\n",
       "      <td>Madagascar</td>\n",
       "      <td>B,S,C</td>\n",
       "      <td>spicy, cocoa</td>\n",
       "    </tr>\n",
       "    <tr>\n",
       "      <th>freq</th>\n",
       "      <td>56</td>\n",
       "      <td>1136</td>\n",
       "      <td>253</td>\n",
       "      <td>55</td>\n",
       "      <td>999</td>\n",
       "      <td>4</td>\n",
       "    </tr>\n",
       "  </tbody>\n",
       "</table>\n",
       "</div>"
      ],
      "text/plain": [
       "       manufacturer company_location bean_origin    bar_name ingredients  \\\n",
       "count          2530             2530        2530        2530        2443   \n",
       "unique          580               67          62        1605          21   \n",
       "top            Soma           U.S.A.   Venezuela  Madagascar       B,S,C   \n",
       "freq             56             1136         253          55         999   \n",
       "\n",
       "              review  \n",
       "count           2530  \n",
       "unique          2487  \n",
       "top     spicy, cocoa  \n",
       "freq               4  "
      ]
     },
     "execution_count": 13,
     "metadata": {},
     "output_type": "execute_result"
    }
   ],
   "source": [
    "read_file.describe(include = 'object')\n"
   ]
  },
  {
   "cell_type": "code",
   "execution_count": 14,
   "metadata": {},
   "outputs": [
    {
     "data": {
      "text/html": [
       "<div>\n",
       "<style scoped>\n",
       "    .dataframe tbody tr th:only-of-type {\n",
       "        vertical-align: middle;\n",
       "    }\n",
       "\n",
       "    .dataframe tbody tr th {\n",
       "        vertical-align: top;\n",
       "    }\n",
       "\n",
       "    .dataframe thead th {\n",
       "        text-align: right;\n",
       "    }\n",
       "</style>\n",
       "<table border=\"1\" class=\"dataframe\">\n",
       "  <thead>\n",
       "    <tr style=\"text-align: right;\">\n",
       "      <th></th>\n",
       "      <th>id</th>\n",
       "      <th>year_reviewed</th>\n",
       "      <th>cocoa_percent</th>\n",
       "      <th>num_ingredients</th>\n",
       "      <th>rating</th>\n",
       "    </tr>\n",
       "  </thead>\n",
       "  <tbody>\n",
       "    <tr>\n",
       "      <th>count</th>\n",
       "      <td>2530.000000</td>\n",
       "      <td>2530.000000</td>\n",
       "      <td>2530.000000</td>\n",
       "      <td>2443.000000</td>\n",
       "      <td>2530.000000</td>\n",
       "    </tr>\n",
       "    <tr>\n",
       "      <th>mean</th>\n",
       "      <td>1429.800791</td>\n",
       "      <td>2014.374308</td>\n",
       "      <td>71.639723</td>\n",
       "      <td>3.041343</td>\n",
       "      <td>3.196344</td>\n",
       "    </tr>\n",
       "    <tr>\n",
       "      <th>std</th>\n",
       "      <td>757.648556</td>\n",
       "      <td>3.968267</td>\n",
       "      <td>5.616724</td>\n",
       "      <td>0.913728</td>\n",
       "      <td>0.445321</td>\n",
       "    </tr>\n",
       "    <tr>\n",
       "      <th>min</th>\n",
       "      <td>5.000000</td>\n",
       "      <td>2006.000000</td>\n",
       "      <td>42.000000</td>\n",
       "      <td>1.000000</td>\n",
       "      <td>1.000000</td>\n",
       "    </tr>\n",
       "    <tr>\n",
       "      <th>25%</th>\n",
       "      <td>802.000000</td>\n",
       "      <td>2012.000000</td>\n",
       "      <td>70.000000</td>\n",
       "      <td>2.000000</td>\n",
       "      <td>3.000000</td>\n",
       "    </tr>\n",
       "    <tr>\n",
       "      <th>50%</th>\n",
       "      <td>1454.000000</td>\n",
       "      <td>2015.000000</td>\n",
       "      <td>70.000000</td>\n",
       "      <td>3.000000</td>\n",
       "      <td>3.250000</td>\n",
       "    </tr>\n",
       "    <tr>\n",
       "      <th>75%</th>\n",
       "      <td>2079.000000</td>\n",
       "      <td>2018.000000</td>\n",
       "      <td>74.000000</td>\n",
       "      <td>4.000000</td>\n",
       "      <td>3.500000</td>\n",
       "    </tr>\n",
       "    <tr>\n",
       "      <th>max</th>\n",
       "      <td>2712.000000</td>\n",
       "      <td>2021.000000</td>\n",
       "      <td>100.000000</td>\n",
       "      <td>6.000000</td>\n",
       "      <td>4.000000</td>\n",
       "    </tr>\n",
       "  </tbody>\n",
       "</table>\n",
       "</div>"
      ],
      "text/plain": [
       "                id  year_reviewed  cocoa_percent  num_ingredients       rating\n",
       "count  2530.000000    2530.000000    2530.000000      2443.000000  2530.000000\n",
       "mean   1429.800791    2014.374308      71.639723         3.041343     3.196344\n",
       "std     757.648556       3.968267       5.616724         0.913728     0.445321\n",
       "min       5.000000    2006.000000      42.000000         1.000000     1.000000\n",
       "25%     802.000000    2012.000000      70.000000         2.000000     3.000000\n",
       "50%    1454.000000    2015.000000      70.000000         3.000000     3.250000\n",
       "75%    2079.000000    2018.000000      74.000000         4.000000     3.500000\n",
       "max    2712.000000    2021.000000     100.000000         6.000000     4.000000"
      ]
     },
     "execution_count": 14,
     "metadata": {},
     "output_type": "execute_result"
    }
   ],
   "source": [
    "read_file.describe()"
   ]
  },
  {
   "cell_type": "code",
   "execution_count": 16,
   "metadata": {},
   "outputs": [
    {
     "data": {
      "text/plain": [
       "dtype('float64')"
      ]
     },
     "execution_count": 16,
     "metadata": {},
     "output_type": "execute_result"
    }
   ],
   "source": [
    "read_file[\"num_ingredients\"].dtype"
   ]
  },
  {
   "cell_type": "code",
   "execution_count": 17,
   "metadata": {},
   "outputs": [
    {
     "data": {
      "text/plain": [
       "dtype('O')"
      ]
     },
     "execution_count": 17,
     "metadata": {},
     "output_type": "execute_result"
    }
   ],
   "source": [
    "read_file[\"ingredients\"].dtype"
   ]
  },
  {
   "cell_type": "code",
   "execution_count": 18,
   "metadata": {},
   "outputs": [
    {
     "data": {
      "text/plain": [
       "3.0413426115431847"
      ]
     },
     "execution_count": 18,
     "metadata": {},
     "output_type": "execute_result"
    }
   ],
   "source": [
    "read_file[\"num_ingredients\"].mean() "
   ]
  },
  {
   "cell_type": "code",
   "execution_count": 19,
   "metadata": {},
   "outputs": [
    {
     "data": {
      "text/plain": [
       "0    B,S,C\n",
       "Name: ingredients, dtype: object"
      ]
     },
     "execution_count": 19,
     "metadata": {},
     "output_type": "execute_result"
    }
   ],
   "source": [
    "read_file[\"ingredients\"].mode()"
   ]
  },
  {
   "cell_type": "code",
   "execution_count": 20,
   "metadata": {},
   "outputs": [],
   "source": [
    "read_file[\"ingredients\"].fillna(value = \"B,S,C\", inplace = True)\n"
   ]
  },
  {
   "cell_type": "code",
   "execution_count": 21,
   "metadata": {},
   "outputs": [
    {
     "name": "stdout",
     "output_type": "stream",
     "text": [
      "<class 'pandas.core.frame.DataFrame'>\n",
      "RangeIndex: 2530 entries, 0 to 2529\n",
      "Data columns (total 11 columns):\n",
      " #   Column            Non-Null Count  Dtype  \n",
      "---  ------            --------------  -----  \n",
      " 0   id                2530 non-null   int64  \n",
      " 1   manufacturer      2530 non-null   object \n",
      " 2   company_location  2530 non-null   object \n",
      " 3   year_reviewed     2530 non-null   int64  \n",
      " 4   bean_origin       2530 non-null   object \n",
      " 5   bar_name          2530 non-null   object \n",
      " 6   cocoa_percent     2530 non-null   float64\n",
      " 7   num_ingredients   2443 non-null   float64\n",
      " 8   ingredients       2530 non-null   object \n",
      " 9   review            2530 non-null   object \n",
      " 10  rating            2530 non-null   float64\n",
      "dtypes: float64(3), int64(2), object(6)\n",
      "memory usage: 217.5+ KB\n"
     ]
    }
   ],
   "source": [
    "read_file.info()"
   ]
  },
  {
   "cell_type": "code",
   "execution_count": 22,
   "metadata": {},
   "outputs": [],
   "source": [
    "read_file[\"num_ingredients\"].fillna(value = 3.0, inplace = True)"
   ]
  },
  {
   "cell_type": "code",
   "execution_count": 23,
   "metadata": {},
   "outputs": [
    {
     "name": "stdout",
     "output_type": "stream",
     "text": [
      "<class 'pandas.core.frame.DataFrame'>\n",
      "RangeIndex: 2530 entries, 0 to 2529\n",
      "Data columns (total 11 columns):\n",
      " #   Column            Non-Null Count  Dtype  \n",
      "---  ------            --------------  -----  \n",
      " 0   id                2530 non-null   int64  \n",
      " 1   manufacturer      2530 non-null   object \n",
      " 2   company_location  2530 non-null   object \n",
      " 3   year_reviewed     2530 non-null   int64  \n",
      " 4   bean_origin       2530 non-null   object \n",
      " 5   bar_name          2530 non-null   object \n",
      " 6   cocoa_percent     2530 non-null   float64\n",
      " 7   num_ingredients   2530 non-null   float64\n",
      " 8   ingredients       2530 non-null   object \n",
      " 9   review            2530 non-null   object \n",
      " 10  rating            2530 non-null   float64\n",
      "dtypes: float64(3), int64(2), object(6)\n",
      "memory usage: 217.5+ KB\n"
     ]
    }
   ],
   "source": [
    "read_file.info()"
   ]
  },
  {
   "cell_type": "code",
   "execution_count": 24,
   "metadata": {},
   "outputs": [],
   "source": [
    "read_file[\"ingredients\"].fillna(value = \"B,S,C\", inplace = True)\n"
   ]
  },
  {
   "cell_type": "code",
   "execution_count": 25,
   "metadata": {},
   "outputs": [
    {
     "name": "stdout",
     "output_type": "stream",
     "text": [
      "<class 'pandas.core.frame.DataFrame'>\n",
      "RangeIndex: 2530 entries, 0 to 2529\n",
      "Data columns (total 11 columns):\n",
      " #   Column            Non-Null Count  Dtype  \n",
      "---  ------            --------------  -----  \n",
      " 0   id                2530 non-null   int64  \n",
      " 1   manufacturer      2530 non-null   object \n",
      " 2   company_location  2530 non-null   object \n",
      " 3   year_reviewed     2530 non-null   int64  \n",
      " 4   bean_origin       2530 non-null   object \n",
      " 5   bar_name          2530 non-null   object \n",
      " 6   cocoa_percent     2530 non-null   float64\n",
      " 7   num_ingredients   2530 non-null   float64\n",
      " 8   ingredients       2530 non-null   object \n",
      " 9   review            2530 non-null   object \n",
      " 10  rating            2530 non-null   float64\n",
      "dtypes: float64(3), int64(2), object(6)\n",
      "memory usage: 217.5+ KB\n"
     ]
    }
   ],
   "source": [
    "read_file.info()"
   ]
  },
  {
   "cell_type": "code",
   "execution_count": 27,
   "metadata": {},
   "outputs": [
    {
     "data": {
      "text/plain": [
       "id                  0\n",
       "manufacturer        0\n",
       "company_location    0\n",
       "year_reviewed       0\n",
       "bean_origin         0\n",
       "bar_name            0\n",
       "cocoa_percent       0\n",
       "num_ingredients     0\n",
       "ingredients         0\n",
       "review              0\n",
       "rating              0\n",
       "dtype: int64"
      ]
     },
     "execution_count": 27,
     "metadata": {},
     "output_type": "execute_result"
    }
   ],
   "source": [
    "read_file.isnull().sum()"
   ]
  },
  {
   "cell_type": "markdown",
   "metadata": {},
   "source": [
    "## rating by country of origin"
   ]
  },
  {
   "cell_type": "code",
   "execution_count": 15,
   "metadata": {},
   "outputs": [
    {
     "data": {
      "text/html": [
       "<div>\n",
       "<style scoped>\n",
       "    .dataframe tbody tr th:only-of-type {\n",
       "        vertical-align: middle;\n",
       "    }\n",
       "\n",
       "    .dataframe tbody tr th {\n",
       "        vertical-align: top;\n",
       "    }\n",
       "\n",
       "    .dataframe thead th {\n",
       "        text-align: right;\n",
       "    }\n",
       "</style>\n",
       "<table border=\"1\" class=\"dataframe\">\n",
       "  <thead>\n",
       "    <tr style=\"text-align: right;\">\n",
       "      <th></th>\n",
       "      <th>bean_origin</th>\n",
       "      <th>rating</th>\n",
       "    </tr>\n",
       "  </thead>\n",
       "  <tbody>\n",
       "    <tr>\n",
       "      <th>54</th>\n",
       "      <td>Tobago</td>\n",
       "      <td>3.625000</td>\n",
       "    </tr>\n",
       "    <tr>\n",
       "      <th>7</th>\n",
       "      <td>China</td>\n",
       "      <td>3.500000</td>\n",
       "    </tr>\n",
       "    <tr>\n",
       "      <th>42</th>\n",
       "      <td>Sao Tome &amp; Principe</td>\n",
       "      <td>3.500000</td>\n",
       "    </tr>\n",
       "    <tr>\n",
       "      <th>44</th>\n",
       "      <td>Solomon Islands</td>\n",
       "      <td>3.450000</td>\n",
       "    </tr>\n",
       "    <tr>\n",
       "      <th>9</th>\n",
       "      <td>Congo</td>\n",
       "      <td>3.318182</td>\n",
       "    </tr>\n",
       "    <tr>\n",
       "      <th>...</th>\n",
       "      <td>...</td>\n",
       "      <td>...</td>\n",
       "    </tr>\n",
       "    <tr>\n",
       "      <th>43</th>\n",
       "      <td>Sierra Leone</td>\n",
       "      <td>2.750000</td>\n",
       "    </tr>\n",
       "    <tr>\n",
       "      <th>47</th>\n",
       "      <td>St.Vincent-Grenadines</td>\n",
       "      <td>2.750000</td>\n",
       "    </tr>\n",
       "    <tr>\n",
       "      <th>38</th>\n",
       "      <td>Principe</td>\n",
       "      <td>2.750000</td>\n",
       "    </tr>\n",
       "    <tr>\n",
       "      <th>30</th>\n",
       "      <td>Martinique</td>\n",
       "      <td>2.750000</td>\n",
       "    </tr>\n",
       "    <tr>\n",
       "      <th>39</th>\n",
       "      <td>Puerto Rico</td>\n",
       "      <td>2.714286</td>\n",
       "    </tr>\n",
       "  </tbody>\n",
       "</table>\n",
       "<p>62 rows × 2 columns</p>\n",
       "</div>"
      ],
      "text/plain": [
       "              bean_origin    rating\n",
       "54                 Tobago  3.625000\n",
       "7                   China  3.500000\n",
       "42    Sao Tome & Principe  3.500000\n",
       "44        Solomon Islands  3.450000\n",
       "9                   Congo  3.318182\n",
       "..                    ...       ...\n",
       "43           Sierra Leone  2.750000\n",
       "47  St.Vincent-Grenadines  2.750000\n",
       "38               Principe  2.750000\n",
       "30             Martinique  2.750000\n",
       "39            Puerto Rico  2.714286\n",
       "\n",
       "[62 rows x 2 columns]"
      ]
     },
     "execution_count": 15,
     "metadata": {},
     "output_type": "execute_result"
    }
   ],
   "source": [
    "aveg_rating = read_file.groupby(\"bean_origin\",as_index = False)[[\"rating\"]].mean().sort_values(by='rating',ascending = False)\n",
    "aveg_rating"
   ]
  },
  {
   "cell_type": "markdown",
   "metadata": {},
   "source": [
    "## How many bars were reviewed for each of those countries?"
   ]
  },
  {
   "cell_type": "code",
   "execution_count": 24,
   "metadata": {},
   "outputs": [
    {
     "data": {
      "text/html": [
       "<div>\n",
       "<style scoped>\n",
       "    .dataframe tbody tr th:only-of-type {\n",
       "        vertical-align: middle;\n",
       "    }\n",
       "\n",
       "    .dataframe tbody tr th {\n",
       "        vertical-align: top;\n",
       "    }\n",
       "\n",
       "    .dataframe thead th {\n",
       "        text-align: right;\n",
       "    }\n",
       "</style>\n",
       "<table border=\"1\" class=\"dataframe\">\n",
       "  <thead>\n",
       "    <tr style=\"text-align: right;\">\n",
       "      <th></th>\n",
       "      <th>bean_origin</th>\n",
       "      <th>review</th>\n",
       "    </tr>\n",
       "  </thead>\n",
       "  <tbody>\n",
       "    <tr>\n",
       "      <th>60</th>\n",
       "      <td>Venezuela</td>\n",
       "      <td>253</td>\n",
       "    </tr>\n",
       "    <tr>\n",
       "      <th>36</th>\n",
       "      <td>Peru</td>\n",
       "      <td>244</td>\n",
       "    </tr>\n",
       "    <tr>\n",
       "      <th>13</th>\n",
       "      <td>Dominican Republic</td>\n",
       "      <td>226</td>\n",
       "    </tr>\n",
       "    <tr>\n",
       "      <th>14</th>\n",
       "      <td>Ecuador</td>\n",
       "      <td>219</td>\n",
       "    </tr>\n",
       "    <tr>\n",
       "      <th>28</th>\n",
       "      <td>Madagascar</td>\n",
       "      <td>177</td>\n",
       "    </tr>\n",
       "    <tr>\n",
       "      <th>...</th>\n",
       "      <td>...</td>\n",
       "      <td>...</td>\n",
       "    </tr>\n",
       "    <tr>\n",
       "      <th>50</th>\n",
       "      <td>Suriname</td>\n",
       "      <td>1</td>\n",
       "    </tr>\n",
       "    <tr>\n",
       "      <th>49</th>\n",
       "      <td>Sumatra</td>\n",
       "      <td>1</td>\n",
       "    </tr>\n",
       "    <tr>\n",
       "      <th>48</th>\n",
       "      <td>Sulawesi</td>\n",
       "      <td>1</td>\n",
       "    </tr>\n",
       "    <tr>\n",
       "      <th>47</th>\n",
       "      <td>St.Vincent-Grenadines</td>\n",
       "      <td>1</td>\n",
       "    </tr>\n",
       "    <tr>\n",
       "      <th>38</th>\n",
       "      <td>Principe</td>\n",
       "      <td>1</td>\n",
       "    </tr>\n",
       "  </tbody>\n",
       "</table>\n",
       "<p>62 rows × 2 columns</p>\n",
       "</div>"
      ],
      "text/plain": [
       "              bean_origin  review\n",
       "60              Venezuela     253\n",
       "36                   Peru     244\n",
       "13     Dominican Republic     226\n",
       "14                Ecuador     219\n",
       "28             Madagascar     177\n",
       "..                    ...     ...\n",
       "50               Suriname       1\n",
       "49                Sumatra       1\n",
       "48               Sulawesi       1\n",
       "47  St.Vincent-Grenadines       1\n",
       "38               Principe       1\n",
       "\n",
       "[62 rows x 2 columns]"
      ]
     },
     "execution_count": 24,
     "metadata": {},
     "output_type": "execute_result"
    }
   ],
   "source": [
    "review = read_file.groupby(\"bean_origin\", as_index = False)[[\"review\"]].count().sort_values(by='review',ascending=False)\n",
    "review"
   ]
  },
  {
   "cell_type": "markdown",
   "metadata": {},
   "source": [
    "## Create plots to visualize findings for questions 1 and 2."
   ]
  },
  {
   "cell_type": "code",
   "execution_count": 16,
   "metadata": {},
   "outputs": [
    {
     "data": {
      "image/png": "[encoded data removed]",
      "text/plain": [
       "<Figure size 1440x360 with 1 Axes>"
      ]
     },
     "metadata": {
      "needs_background": "light"
     },
     "output_type": "display_data"
    }
   ],
   "source": [
    "plt.figure(figsize = (20, 5))\n",
    "sns.barplot( x = \"bean_origin\", y = \"rating\", data = aveg_rating[0:10] )\n",
    "plt.xticks(rotation = 90);"
   ]
  },
  {
   "cell_type": "code",
   "execution_count": 18,
   "metadata": {},
   "outputs": [
    {
     "data": {
      "image/png": "[encoded data removed]",
      "text/plain": [
       "<Figure size 1440x360 with 1 Axes>"
      ]
     },
     "metadata": {
      "needs_background": "light"
     },
     "output_type": "display_data"
    }
   ],
   "source": [
    "plt.figure(figsize = (20, 5))\n",
    "sns.barplot( x = \"bean_origin\", y = \"rating\", data = aveg_rating[52:] )\n",
    "plt.xticks(rotation = 90);"
   ]
  },
  {
   "cell_type": "markdown",
   "metadata": {},
   "source": [
    "## Observations\n",
    "* Average rating of the chocolate bar is highest for the country Tobago\n",
    "* Average rating of the chocolate bar is lowest for the country Puerto Rico"
   ]
  },
  {
   "cell_type": "code",
   "execution_count": 25,
   "metadata": {},
   "outputs": [
    {
     "data": {
      "image/png": "[encoded data removed]",
      "text/plain": [
       "<Figure size 432x288 with 1 Axes>"
      ]
     },
     "metadata": {
      "needs_background": "light"
     },
     "output_type": "display_data"
    }
   ],
   "source": [
    "\n",
    "sns.barplot( x = \"bean_origin\", y = \"review\", data = review[0:10] )\n",
    "plt.xticks(rotation = 90);"
   ]
  },
  {
   "cell_type": "markdown",
   "metadata": {},
   "source": [
    "## Observations\n",
    "* Highest numbers of bars were reviewed for the country Venezulea"
   ]
  },
  {
   "cell_type": "code",
   "execution_count": 25,
   "metadata": {},
   "outputs": [
    {
     "data": {
      "image/png": "[encoded data removed]",
      "text/plain": [
       "<Figure size 1440x360 with 1 Axes>"
      ]
     },
     "metadata": {
      "needs_background": "light"
     },
     "output_type": "display_data"
    }
   ],
   "source": [
    "# CHECKING IF THE COCOA BEAN'S ORIGIN IS AN INDICATOR OF QUALITY \n",
    "# CHECK IF THE PATTERNS OF THE BEAN_ORIGIN vS RATING PLOT AND THE COCOA PERCENT  if directly proportional \n",
    "# coca bean's origin is an indicator of quality \n",
    "plt.figure(figsize=(20,5))\n",
    "sns.lineplot(x='bean_origin', y='rating', data= read_file)\n",
    "plt.xticks(rotation=90);"
   ]
  },
  {
   "cell_type": "code",
   "execution_count": 26,
   "metadata": {},
   "outputs": [
    {
     "data": {
      "image/png": "[encoded data removed]",
      "text/plain": [
       "<Figure size 1440x360 with 1 Axes>"
      ]
     },
     "metadata": {
      "needs_background": "light"
     },
     "output_type": "display_data"
    }
   ],
   "source": [
    "plt.figure(figsize=(20,5))\n",
    "sns.lineplot(x='cocoa_percent', y='rating', data=read_file)\n",
    "plt.xticks(rotation=90);"
   ]
  },
  {
   "cell_type": "markdown",
   "metadata": {},
   "source": [
    "## observations\n",
    "* we can see that patterns are different and where the \n",
    "* Coca percent is not high we can see that there are high ratings with bean's origin\n",
    "* therefore we conclude that the cocoa bean origin is not an indicator of quality"
   ]
  },
  {
   "cell_type": "code",
   "execution_count": null,
   "metadata": {},
   "outputs": [],
   "source": [
    "# OPTIONAL Question \n",
    "# How does cocoa content relate to rating? What is the average \n",
    "# cocoa content for bars with higher ratings (above 3.5)?"
   ]
  },
  {
   "cell_type": "code",
   "execution_count": 27,
   "metadata": {},
   "outputs": [
    {
     "data": {
      "image/png": "[encoded data removed]",
      "text/plain": [
       "<Figure size 1440x360 with 1 Axes>"
      ]
     },
     "metadata": {
      "needs_background": "light"
     },
     "output_type": "display_data"
    }
   ],
   "source": [
    "plt.figure(figsize=(20,5))\n",
    "sns.barplot(x='cocoa_percent', y='rating', data=read_file)\n",
    "plt.xticks(rotation=90);"
   ]
  },
  {
   "cell_type": "code",
   "execution_count": null,
   "metadata": {},
   "outputs": [],
   "source": [
    "### From the above barplot no defined relationship is there between Coca percent and\n",
    "#rating as can be seen for lower Coca percent as 50 there is a hight rating above 3.5 and also for a relatively\n",
    "#high cocoa percent as 87 we have a high rating also "
   ]
  },
  {
   "cell_type": "code",
   "execution_count": 28,
   "metadata": {},
   "outputs": [
    {
     "name": "stdout",
     "output_type": "stream",
     "text": [
      "Average rating with lecithin 3.150608519269777\n",
      "Average rating without lecithin 3.2251282051282053\n"
     ]
    }
   ],
   "source": [
    "choc_bar_drna = read_file.dropna()\n",
    "avg_rating_with_lec = choc_bar_drna[choc_bar_drna[\"ingredients\"].str.contains(\"L\")].rating.mean()\n",
    "avg_rating_without_lec = choc_bar_drna[~choc_bar_drna[\"ingredients\"].str.contains(\"L\")].rating.mean()\n",
    "print(\"Average rating with lecithin \"+str(avg_rating_with_lec))\n",
    "print(\"Average rating without lecithin \"+str(avg_rating_without_lec))"
   ]
  },
  {
   "cell_type": "code",
   "execution_count": 29,
   "metadata": {},
   "outputs": [
    {
     "data": {
      "text/html": [
       "<div>\n",
       "<style scoped>\n",
       "    .dataframe tbody tr th:only-of-type {\n",
       "        vertical-align: middle;\n",
       "    }\n",
       "\n",
       "    .dataframe tbody tr th {\n",
       "        vertical-align: top;\n",
       "    }\n",
       "\n",
       "    .dataframe thead th {\n",
       "        text-align: right;\n",
       "    }\n",
       "</style>\n",
       "<table border=\"1\" class=\"dataframe\">\n",
       "  <thead>\n",
       "    <tr style=\"text-align: right;\">\n",
       "      <th></th>\n",
       "      <th>year_reviewed</th>\n",
       "      <th>bar_name</th>\n",
       "    </tr>\n",
       "  </thead>\n",
       "  <tbody>\n",
       "    <tr>\n",
       "      <th>0</th>\n",
       "      <td>2006</td>\n",
       "      <td>62</td>\n",
       "    </tr>\n",
       "    <tr>\n",
       "      <th>1</th>\n",
       "      <td>2007</td>\n",
       "      <td>73</td>\n",
       "    </tr>\n",
       "    <tr>\n",
       "      <th>2</th>\n",
       "      <td>2008</td>\n",
       "      <td>92</td>\n",
       "    </tr>\n",
       "    <tr>\n",
       "      <th>3</th>\n",
       "      <td>2009</td>\n",
       "      <td>123</td>\n",
       "    </tr>\n",
       "    <tr>\n",
       "      <th>4</th>\n",
       "      <td>2010</td>\n",
       "      <td>110</td>\n",
       "    </tr>\n",
       "    <tr>\n",
       "      <th>5</th>\n",
       "      <td>2011</td>\n",
       "      <td>163</td>\n",
       "    </tr>\n",
       "    <tr>\n",
       "      <th>6</th>\n",
       "      <td>2012</td>\n",
       "      <td>194</td>\n",
       "    </tr>\n",
       "    <tr>\n",
       "      <th>7</th>\n",
       "      <td>2013</td>\n",
       "      <td>183</td>\n",
       "    </tr>\n",
       "    <tr>\n",
       "      <th>8</th>\n",
       "      <td>2014</td>\n",
       "      <td>247</td>\n",
       "    </tr>\n",
       "    <tr>\n",
       "      <th>9</th>\n",
       "      <td>2015</td>\n",
       "      <td>284</td>\n",
       "    </tr>\n",
       "    <tr>\n",
       "      <th>10</th>\n",
       "      <td>2016</td>\n",
       "      <td>217</td>\n",
       "    </tr>\n",
       "    <tr>\n",
       "      <th>11</th>\n",
       "      <td>2017</td>\n",
       "      <td>105</td>\n",
       "    </tr>\n",
       "    <tr>\n",
       "      <th>12</th>\n",
       "      <td>2018</td>\n",
       "      <td>228</td>\n",
       "    </tr>\n",
       "    <tr>\n",
       "      <th>13</th>\n",
       "      <td>2019</td>\n",
       "      <td>193</td>\n",
       "    </tr>\n",
       "    <tr>\n",
       "      <th>14</th>\n",
       "      <td>2020</td>\n",
       "      <td>81</td>\n",
       "    </tr>\n",
       "    <tr>\n",
       "      <th>15</th>\n",
       "      <td>2021</td>\n",
       "      <td>175</td>\n",
       "    </tr>\n",
       "  </tbody>\n",
       "</table>\n",
       "</div>"
      ],
      "text/plain": [
       "    year_reviewed  bar_name\n",
       "0            2006        62\n",
       "1            2007        73\n",
       "2            2008        92\n",
       "3            2009       123\n",
       "4            2010       110\n",
       "5            2011       163\n",
       "6            2012       194\n",
       "7            2013       183\n",
       "8            2014       247\n",
       "9            2015       284\n",
       "10           2016       217\n",
       "11           2017       105\n",
       "12           2018       228\n",
       "13           2019       193\n",
       "14           2020        81\n",
       "15           2021       175"
      ]
     },
     "execution_count": 29,
     "metadata": {},
     "output_type": "execute_result"
    }
   ],
   "source": [
    "year_bar_count=(read_file.groupby(\"year_reviewed\").bar_name.count().reset_index()year_bar_count"
   ]
  },
  {
   "cell_type": "code",
   "execution_count": 30,
   "metadata": {},
   "outputs": [
    {
     "data": {
      "text/plain": [
       "<AxesSubplot:xlabel='year_reviewed', ylabel='bar_name'>"
      ]
     },
     "execution_count": 30,
     "metadata": {},
     "output_type": "execute_result"
    },
    {
     "data": {
      "image/png": "[encoded data removed]",
      "text/plain": [
       "<Figure size 432x288 with 1 Axes>"
      ]
     },
     "metadata": {
      "needs_background": "light"
     },
     "output_type": "display_data"
    }
   ],
   "source": [
    "sns.scatterplot(x=\"year_reviewed\",y=\"bar_name\",data=year_bar_count)"
   ]
  },
  {
   "cell_type": "markdown",
   "metadata": {},
   "source": [
    "## Observations\n",
    "* Highest number of bars were reviewed in the year 2015.\n",
    "* Lowest number of bars were reviewed in the year 2006"
   ]
  },
  {
   "cell_type": "markdown",
   "metadata": {},
   "source": [
    "# overall observations/findings\n",
    "* There are more chocolate bars with rating greater than 3.\n",
    "* Most of the cholocolate bars have 3 ingredients.\n",
    "* Average rating of the chocolate bar is highest for the country Tobago\n",
    "* Average rating of the chocolate bar is lowest for the country Puerto Rico\n",
    "* Highest numbers of bars were reviewed for the country Venezulea\n",
    "* Cocoa bean's origin is not an indicator of quality\n",
    "* The average rating of bars without lecithin is more than the average rating of bars with lecithin/////"
   ]
  },
  {
   "cell_type": "code",
   "execution_count": null,
   "metadata": {},
   "outputs": [],
   "source": []
  }
 ],
 "metadata": {
  "kernelspec": {
   "display_name": "Python 3 (ipykernel)",
   "language": "python",
   "name": "python3"
  },
  "language_info": {
   "codemirror_mode": {
    "name": "ipython",
    "version": 3
   },
   "file_extension": ".py",
   "mimetype": "text/x-python",
   "name": "python",
   "nbconvert_exporter": "python",
   "pygments_lexer": "ipython3",
   "version": "3.9.12"
  }
 },
 "nbformat": 4,
 "nbformat_minor": 2
}
