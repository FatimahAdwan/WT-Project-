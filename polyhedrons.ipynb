{
 "cells": [
  {
   "cell_type": "code",
   "execution_count": 6,
   "metadata": {},
   "outputs": [
    {
     "name": "stdout",
     "output_type": "stream",
     "text": [
      " please enter the number of polyhedrons 5\n",
      " please enter your shapes \n",
      " please enter your shapes \n",
      " please enter your shapes \n",
      " please enter your shapes \n",
      " please enter your shapes \n",
      "5\n",
      " anton's polyhedrons total faces are:  50\n"
     ]
    }
   ],
   "source": [
    "anthons_polyhedrons = [\"Tetrahedron\", \"Cube\", \"Octahedron\",\"Dodecahedron\",\"Icosahedron\"]\n",
    "collect_shapes_number = int(input( \" please enter the number of polyhedrons \" ))\n",
    "for n in anthons_polyhedrons:\n",
    "    Tetrahedron = 4\n",
    "    Cube = 6\n",
    "    Octahedron = 8\n",
    "    Dodecahedron = 12\n",
    "    Icosahedron = 20\n",
    "    \n",
    "    collect_shapes_names = input( \" please enter your shapes \")\n",
    "    total = Tetrahedron + Cube + Octahedron + Dodecahedron + Icosahedron\n",
    "    \n",
    "print(collect_shapes_number)\n",
    "print(\" anton's polyhedrons total faces are: \", total)\n",
    "    \n",
    "    \n",
    "    "
   ]
  },
  {
   "cell_type": "code",
   "execution_count": null,
   "metadata": {},
   "outputs": [],
   "source": []
  }
 ],
 "metadata": {
  "kernelspec": {
   "display_name": "Python 3",
   "language": "python",
   "name": "python3"
  },
  "language_info": {
   "codemirror_mode": {
    "name": "ipython",
    "version": 3
   },
   "file_extension": ".py",
   "mimetype": "text/x-python",
   "name": "python",
   "nbconvert_exporter": "python",
   "pygments_lexer": "ipython3",
   "version": "3.7.4"
  }
 },
 "nbformat": 4,
 "nbformat_minor": 2
}
